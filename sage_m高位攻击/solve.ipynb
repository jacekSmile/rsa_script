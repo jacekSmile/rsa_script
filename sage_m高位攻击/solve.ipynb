{
 "cells": [
  {
   "cell_type": "markdown",
   "metadata": {},
   "source": [
    "# sage m高位攻击\n",
    "## 出题脚本"
   ]
  },
  {
   "cell_type": "code",
   "execution_count": null,
   "metadata": {
    "vscode": {
     "languageId": "python"
    }
   },
   "outputs": [],
   "source": [
    "import libnum\n",
    "import uuid\n",
    "\n",
    "flag = \"flag{\" + str(uuid.uuid4()) + \"}\"\n",
    "m = libnum.s2n(flag)\n",
    "p = libnum.generate_prime(512)\n",
    "q = libnum.generate_prime(512)\n",
    "n = p * q\n",
    "high_m = ((m >> 12) << 12)\n",
    "e = 3\n",
    "c = pow(m, e, n)\n",
    "\n",
    "print(f\"n = {n}\")\n",
    "print(f\"c = {c}\")\n",
    "print(f\"e = {e}\")\n",
    "print(f\"high_m = {high_m}\")"
   ]
  },
  {
   "cell_type": "markdown",
   "metadata": {},
   "source": [
    "## 解题脚本"
   ]
  },
  {
   "cell_type": "code",
   "execution_count": null,
   "metadata": {
    "vscode": {
     "languageId": "python"
    }
   },
   "outputs": [],
   "source": [
    "import libnum\n",
    "def phase2(high_m, n, c):\n",
    "    R.<x> = PolynomialRing(Zmod(n), implementation='NTL')\n",
    "    m = high_m + x\n",
    "    M = m((m^3 - c).small_roots()[0])\n",
    "    print(libnum.n2s(int(M)))\n",
    "\n",
    "n = 80750087828419714687536548174809713075374331985177706788545552813382861902818777904822012408759346462711477717894876826603215944194531865040239041170662102752969895720945643648265937796233926889038533465643801196260334929019382215761396219846538632719036631529652126879671051352272889821643992163340804103929\n",
    "c = 175676150266407626746860600669651459328413658707743424165782176826630821232978028692565815185040806248481886142853579301061961411636309076018738846288043228961231901339789714844774400154956692756873027488729597975786015266145160226531797502631924670820406356604630647899828304145099199855231472370417509\n",
    "e = 3\n",
    "high_m = 56006392793405049319366737683038850394358686922948381228816931805567651190062712751330580751035281408\n",
    "\n",
    "phase2(high_m, n, c)"
   ]
  },
  {
   "cell_type": "code",
   "execution_count": null,
   "metadata": {
    "vscode": {
     "languageId": "python"
    }
   },
   "outputs": [],
   "source": []
  }
 ],
 "metadata": {
  "kernelspec": {
   "display_name": "SageMath 9.2",
   "language": "sage",
   "name": "sagemath"
  },
  "language_info": {
   "codemirror_mode": {
    "name": "ipython",
    "version": 3
   },
   "file_extension": ".py",
   "mimetype": "text/x-python",
   "name": "sage",
   "nbconvert_exporter": "python",
   "pygments_lexer": "ipython3",
   "version": "3.7.7"
  }
 },
 "nbformat": 4,
 "nbformat_minor": 4
}
